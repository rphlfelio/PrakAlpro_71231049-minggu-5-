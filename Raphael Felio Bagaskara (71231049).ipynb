{
 "cells": [
  {
   "cell_type": "code",
   "execution_count": 17,
   "id": "df24f391",
   "metadata": {},
   "outputs": [
    {
     "name": "stdout",
     "output_type": "stream",
     "text": [
      "masukkan bilangan yang ingin di kalikan : 9\n",
      "masukkan bilangan perkalian : 10\n",
      "9x10=10+10+10+10+10+10+10+10+10=90\n"
     ]
    }
   ],
   "source": [
    "#Latihan 5.1\n",
    "def perkalian (a,b):\n",
    "    awal = 0\n",
    "    jumlah = \"\"\n",
    "    print(str(a) + \"x\" + str(b) + \"=\", end=\"\")\n",
    "    for i in range(a):\n",
    "        awal += b\n",
    "        jumlah += str(b)\n",
    "        if i < a - 1:\n",
    "            jumlah += \"+\"\n",
    "        else:\n",
    "            jumlah += \"=\" + str(awal)\n",
    "    return jumlah\n",
    "bil_a = int(input(\"masukkan bilangan yang ingin di kalikan : \"))\n",
    "bil_b = int(input(\"masukkan bilangan perkalian : \"))\n",
    "print(perkalian(bil_a,bil_b))"
   ]
  },
  {
   "cell_type": "code",
   "execution_count": 18,
   "id": "22c180f2",
   "metadata": {},
   "outputs": [
    {
     "name": "stdout",
     "output_type": "stream",
     "text": [
      "masukkan nilai bawah : 90\n",
      "masukkan nilai atas : 50\n",
      "89,87,85,83,81,79,77,75,73,71,69,67,65,63,61,59,57,55,53,51,"
     ]
    }
   ],
   "source": [
    "#Latihan 5.2\n",
    "def ganjil (bil_a, bil_b):\n",
    "    if bil_b > bil_a :\n",
    "        while bil_b != bil_a:\n",
    "            if bil_b % 2 == 1:\n",
    "                print(bil_b, end=\",\")\n",
    "            bil_b = bil_b -1\n",
    "    else :\n",
    "        while bil_b != bil_a :\n",
    "            bil_b = bil_b +1\n",
    "            if bil_b % 2 == 1:\n",
    "                print(bil_b, end=\",\")\n",
    "                \n",
    "bil_bawah = int(input(\"masukkan nilai bawah : \"))\n",
    "bil_atas = int(input(\"masukkan nilai atas : \"))\n",
    "ganjil(bil_atas,bil_bawah)"
   ]
  },
  {
   "cell_type": "code",
   "execution_count": 8,
   "id": "29457b82",
   "metadata": {},
   "outputs": [
    {
     "name": "stdout",
     "output_type": "stream",
     "text": [
      "Jumlah mata kuliah : 6\n",
      "\n",
      "nilai mata kuliah 1: A\n",
      "rata - rata = 0.67\n",
      "nilai mata kuliah 2: B\n",
      "rata - rata = 1.17\n",
      "nilai mata kuliah 3: C\n",
      "rata - rata = 1.50\n",
      "nilai mata kuliah 4: D\n",
      "rata - rata = 1.67\n",
      "nilai mata kuliah 5: A\n",
      "rata - rata = 2.33\n",
      "nilai mata kuliah 6: A\n",
      "rata - rata = 3.00\n"
     ]
    }
   ],
   "source": [
    "#Latihan 5.3\n",
    "a = int(input(\"Jumlah mata kuliah : \"))\n",
    "print()\n",
    "awal = 0\n",
    "for i in range(0,a):\n",
    "    nilai = input(\"nilai mata kuliah %d: \"%(i+1))\n",
    "    if nilai == \"A\":\n",
    "        hasil = 4\n",
    "    elif nilai == \"B\":\n",
    "        hasil = 3\n",
    "    elif nilai == \"C\":\n",
    "        hasil = 2\n",
    "    elif nilai == \"D\":\n",
    "        hasil = 1\n",
    "    awal += hasil\n",
    "    rata_rata = awal / a\n",
    "    print(\"rata - rata = %0.2f\"% rata_rata)"
   ]
  }
 ],
 "metadata": {
  "kernelspec": {
   "display_name": "Python 3 (ipykernel)",
   "language": "python",
   "name": "python3"
  },
  "language_info": {
   "codemirror_mode": {
    "name": "ipython",
    "version": 3
   },
   "file_extension": ".py",
   "mimetype": "text/x-python",
   "name": "python",
   "nbconvert_exporter": "python",
   "pygments_lexer": "ipython3",
   "version": "3.11.5"
  }
 },
 "nbformat": 4,
 "nbformat_minor": 5
}
